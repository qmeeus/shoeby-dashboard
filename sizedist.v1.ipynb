{
 "cells": [
  {
   "cell_type": "markdown",
   "metadata": {
    "extensions": {
     "jupyter_dashboards": {
      "version": 1.0,
      "views": {
       "grid_default": {
        "col": 0.0,
        "height": 4.0,
        "hidden": false,
        "row": 4.0,
        "width": 4.0
       },
       "report_default": {}
      }
     }
    }
   },
   "source": [
    "# Dashboarding tools"
   ]
  },
  {
   "cell_type": "code",
   "execution_count": 1,
   "metadata": {
    "extensions": {
     "jupyter_dashboards": {
      "version": 1.0,
      "views": {
       "grid_default": {
        "hidden": true
       },
       "report_default": {}
      }
     }
    }
   },
   "outputs": [],
   "source": [
    "%matplotlib notebook\n",
    "\n",
    "import numpy as np\n",
    "import pandas as pd\n",
    "import matplotlib.pyplot as plt\n",
    "import seaborn as sns\n",
    "import datetime as dt, os, re\n",
    "from time import time\n",
    "import warnings\n",
    "\n",
    "from pprint import pprint\n",
    "\n",
    "from IPython.display import display\n",
    "from ipywidgets import widgets, interactive, HBox, VBox, Layout\n",
    "from pandas.api.types import CategoricalDtype\n",
    "from matplotlib.ticker import FuncFormatter\n",
    "\n",
    "sns.set_style('white')\n",
    "plt.rcParams[\"figure.figsize\"] = (15,8)"
   ]
  },
  {
   "cell_type": "code",
   "execution_count": 2,
   "metadata": {
    "extensions": {
     "jupyter_dashboards": {
      "version": 1.0,
      "views": {
       "grid_default": {
        "hidden": true
       },
       "report_default": {}
      }
     }
    }
   },
   "outputs": [],
   "source": [
    "# Data files location\n",
    "DATA_DIR = \"export/data/\"\n",
    "\n",
    "# Smallest granularity\n",
    "SAMPLING = \"D\"\n",
    "\n",
    "# Size column\n",
    "SIZE_COLUMN = \"Horizontal Component Code\"\n",
    "\n",
    "# Default dates for dropdowns\n",
    "START_DATE, END_DATE =  dt.date(2015,8,1), dt.date(2017,12,31)\n",
    "\n",
    "# Filters\n",
    "FILTERS = [\n",
    "        \n",
    "        (\"Web Shop Code\", \"Retailer\"), \n",
    "        (\"Merchandise Code\", \"Category\"),\n",
    "        (\"Brand\", \"Brand\"),\n",
    "        (\"Season\", \"Season\"),\n",
    "        (\"Item No_\", \"Item Number\"),\n",
    "#         (\"External Record Id\", \"Product ID\")   \n",
    "\n",
    "]"
   ]
  },
  {
   "cell_type": "code",
   "execution_count": 3,
   "metadata": {
    "code_folding": [
     48.0,
     72.0
    ],
    "extensions": {
     "jupyter_dashboards": {
      "version": 1.0,
      "views": {
       "grid_default": {
        "hidden": true
       },
       "report_default": {}
      }
     }
    },
    "hide_input": false,
    "scrolled": false
   },
   "outputs": [
    {
     "ename": "KeyError",
     "evalue": "'Item No_'",
     "traceback": [
      "\u001b[0;31m---------------------------------------------------------------------------\u001b[0m",
      "\u001b[0;31mKeyError\u001b[0m                                  Traceback (most recent call last)",
      "\u001b[0;32m<ipython-input-3-97f8c38f9fc1>\u001b[0m in \u001b[0;36m<module>\u001b[0;34m()\u001b[0m\n\u001b[1;32m    115\u001b[0m     \u001b[0;32mreturn\u001b[0m \u001b[0mdata\u001b[0m\u001b[0;34m\u001b[0m\u001b[0m\n\u001b[1;32m    116\u001b[0m \u001b[0;34m\u001b[0m\u001b[0m\n\u001b[0;32m--> 117\u001b[0;31m \u001b[0msales\u001b[0m \u001b[0;34m=\u001b[0m \u001b[0mtimeit\u001b[0m\u001b[0;34m(\u001b[0m\u001b[0mload_sales\u001b[0m\u001b[0;34m)\u001b[0m\u001b[0;34m\u001b[0m\u001b[0m\n\u001b[0m\u001b[1;32m    118\u001b[0m \u001b[0minventory\u001b[0m \u001b[0;34m=\u001b[0m \u001b[0mtimeit\u001b[0m\u001b[0;34m(\u001b[0m\u001b[0mload_inventory\u001b[0m\u001b[0;34m)\u001b[0m\u001b[0;34m\u001b[0m\u001b[0m\n",
      "\u001b[0;32m<ipython-input-3-97f8c38f9fc1>\u001b[0m in \u001b[0;36mtimeit\u001b[0;34m(func, *args, **kwargs)\u001b[0m\n\u001b[1;32m     94\u001b[0m \u001b[0;32mdef\u001b[0m \u001b[0mtimeit\u001b[0m\u001b[0;34m(\u001b[0m\u001b[0mfunc\u001b[0m\u001b[0;34m,\u001b[0m \u001b[0;34m*\u001b[0m\u001b[0margs\u001b[0m\u001b[0;34m,\u001b[0m \u001b[0;34m**\u001b[0m\u001b[0mkwargs\u001b[0m\u001b[0;34m)\u001b[0m\u001b[0;34m:\u001b[0m\u001b[0;34m\u001b[0m\u001b[0m\n\u001b[1;32m     95\u001b[0m     \u001b[0mt0\u001b[0m \u001b[0;34m=\u001b[0m \u001b[0mtime\u001b[0m\u001b[0;34m(\u001b[0m\u001b[0;34m)\u001b[0m\u001b[0;34m\u001b[0m\u001b[0m\n\u001b[0;32m---> 96\u001b[0;31m     \u001b[0mout\u001b[0m \u001b[0;34m=\u001b[0m \u001b[0mfunc\u001b[0m\u001b[0;34m(\u001b[0m\u001b[0;34m*\u001b[0m\u001b[0margs\u001b[0m\u001b[0;34m,\u001b[0m \u001b[0;34m**\u001b[0m\u001b[0mkwargs\u001b[0m\u001b[0;34m)\u001b[0m\u001b[0;34m\u001b[0m\u001b[0m\n\u001b[0m\u001b[1;32m     97\u001b[0m     \u001b[0mt1\u001b[0m \u001b[0;34m=\u001b[0m \u001b[0mtime\u001b[0m\u001b[0;34m(\u001b[0m\u001b[0;34m)\u001b[0m\u001b[0;34m\u001b[0m\u001b[0m\n\u001b[1;32m     98\u001b[0m     \u001b[0mprint\u001b[0m\u001b[0;34m(\u001b[0m\u001b[0;34mf\"{func.__name__} took {t1 - t0: .2f} s.\"\u001b[0m\u001b[0;34m)\u001b[0m\u001b[0;34m\u001b[0m\u001b[0m\n",
      "\u001b[0;32m<ipython-input-3-97f8c38f9fc1>\u001b[0m in \u001b[0;36mload_sales\u001b[0;34m(nrows, **csv_params)\u001b[0m\n\u001b[1;32m     31\u001b[0m         \u001b[0;34m.\u001b[0m\u001b[0mpipe\u001b[0m\u001b[0;34m(\u001b[0m\u001b[0;32mlambda\u001b[0m \u001b[0mdf\u001b[0m\u001b[0;34m:\u001b[0m \u001b[0mdf\u001b[0m\u001b[0;34m.\u001b[0m\u001b[0mwhere\u001b[0m\u001b[0;34m(\u001b[0m\u001b[0;34m~\u001b[0m\u001b[0mdf\u001b[0m\u001b[0;34m.\u001b[0m\u001b[0mDescription\u001b[0m\u001b[0;34m.\u001b[0m\u001b[0misin\u001b[0m\u001b[0;34m(\u001b[0m\u001b[0mexclude\u001b[0m\u001b[0;34m)\u001b[0m\u001b[0;34m)\u001b[0m\u001b[0;34m.\u001b[0m\u001b[0mdropna\u001b[0m\u001b[0;34m(\u001b[0m\u001b[0;34m)\u001b[0m\u001b[0;34m)\u001b[0m\u001b[0;34m\u001b[0m\u001b[0m\n\u001b[1;32m     32\u001b[0m         \u001b[0;34m.\u001b[0m\u001b[0mset_index\u001b[0m\u001b[0;34m(\u001b[0m\u001b[0;34m\"order_date\"\u001b[0m\u001b[0;34m)\u001b[0m\u001b[0;34m\u001b[0m\u001b[0m\n\u001b[0;32m---> 33\u001b[0;31m         \u001b[0;34m.\u001b[0m\u001b[0mgroupby\u001b[0m\u001b[0;34m(\u001b[0m\u001b[0;34m[\u001b[0m\u001b[0mpd\u001b[0m\u001b[0;34m.\u001b[0m\u001b[0mGrouper\u001b[0m\u001b[0;34m(\u001b[0m\u001b[0mfreq\u001b[0m\u001b[0;34m=\u001b[0m\u001b[0mSAMPLING\u001b[0m\u001b[0;34m)\u001b[0m\u001b[0;34m,\u001b[0m \u001b[0mSIZE_COLUMN\u001b[0m\u001b[0;34m]\u001b[0m \u001b[0;34m+\u001b[0m \u001b[0mlist\u001b[0m\u001b[0;34m(\u001b[0m\u001b[0mmap\u001b[0m\u001b[0;34m(\u001b[0m\u001b[0;32mlambda\u001b[0m \u001b[0mx\u001b[0m\u001b[0;34m:\u001b[0m \u001b[0mx\u001b[0m\u001b[0;34m[\u001b[0m\u001b[0;36m0\u001b[0m\u001b[0;34m]\u001b[0m\u001b[0;34m,\u001b[0m \u001b[0mFILTERS\u001b[0m\u001b[0;34m)\u001b[0m\u001b[0;34m)\u001b[0m\u001b[0;34m)\u001b[0m\u001b[0;34m\u001b[0m\u001b[0m\n\u001b[0m\u001b[1;32m     34\u001b[0m         \u001b[0;34m.\u001b[0m\u001b[0maggregate\u001b[0m\u001b[0;34m(\u001b[0m\u001b[0;34m{\u001b[0m\u001b[0;34m\"Quantity\"\u001b[0m\u001b[0;34m:\u001b[0m \u001b[0;34m'sum'\u001b[0m\u001b[0;34m,\u001b[0m \u001b[0;34m\"Quantity Returned\"\u001b[0m\u001b[0;34m:\u001b[0m \u001b[0;34m'sum'\u001b[0m\u001b[0;34m}\u001b[0m\u001b[0;34m)\u001b[0m\u001b[0;34m\u001b[0m\u001b[0m\n\u001b[1;32m     35\u001b[0m         \u001b[0;34m.\u001b[0m\u001b[0mreset_index\u001b[0m\u001b[0;34m(\u001b[0m\u001b[0;34m)\u001b[0m\u001b[0;34m\u001b[0m\u001b[0m\n",
      "\u001b[0;32m~/.local/bin/anaconda3/lib/python3.6/site-packages/pandas/core/generic.py\u001b[0m in \u001b[0;36mgroupby\u001b[0;34m(self, by, axis, level, as_index, sort, group_keys, squeeze, **kwargs)\u001b[0m\n\u001b[1;32m   5160\u001b[0m         return groupby(self, by=by, axis=axis, level=level, as_index=as_index,\n\u001b[1;32m   5161\u001b[0m                        \u001b[0msort\u001b[0m\u001b[0;34m=\u001b[0m\u001b[0msort\u001b[0m\u001b[0;34m,\u001b[0m \u001b[0mgroup_keys\u001b[0m\u001b[0;34m=\u001b[0m\u001b[0mgroup_keys\u001b[0m\u001b[0;34m,\u001b[0m \u001b[0msqueeze\u001b[0m\u001b[0;34m=\u001b[0m\u001b[0msqueeze\u001b[0m\u001b[0;34m,\u001b[0m\u001b[0;34m\u001b[0m\u001b[0m\n\u001b[0;32m-> 5162\u001b[0;31m                        **kwargs)\n\u001b[0m\u001b[1;32m   5163\u001b[0m \u001b[0;34m\u001b[0m\u001b[0m\n\u001b[1;32m   5164\u001b[0m     def asfreq(self, freq, method=None, how=None, normalize=False,\n",
      "\u001b[0;32m~/.local/bin/anaconda3/lib/python3.6/site-packages/pandas/core/groupby.py\u001b[0m in \u001b[0;36mgroupby\u001b[0;34m(obj, by, **kwds)\u001b[0m\n\u001b[1;32m   1846\u001b[0m         \u001b[0;32mraise\u001b[0m \u001b[0mTypeError\u001b[0m\u001b[0;34m(\u001b[0m\u001b[0;34m'invalid type: %s'\u001b[0m \u001b[0;34m%\u001b[0m \u001b[0mtype\u001b[0m\u001b[0;34m(\u001b[0m\u001b[0mobj\u001b[0m\u001b[0;34m)\u001b[0m\u001b[0;34m)\u001b[0m\u001b[0;34m\u001b[0m\u001b[0m\n\u001b[1;32m   1847\u001b[0m \u001b[0;34m\u001b[0m\u001b[0m\n\u001b[0;32m-> 1848\u001b[0;31m     \u001b[0;32mreturn\u001b[0m \u001b[0mklass\u001b[0m\u001b[0;34m(\u001b[0m\u001b[0mobj\u001b[0m\u001b[0;34m,\u001b[0m \u001b[0mby\u001b[0m\u001b[0;34m,\u001b[0m \u001b[0;34m**\u001b[0m\u001b[0mkwds\u001b[0m\u001b[0;34m)\u001b[0m\u001b[0;34m\u001b[0m\u001b[0m\n\u001b[0m\u001b[1;32m   1849\u001b[0m \u001b[0;34m\u001b[0m\u001b[0m\n\u001b[1;32m   1850\u001b[0m \u001b[0;34m\u001b[0m\u001b[0m\n",
      "\u001b[0;32m~/.local/bin/anaconda3/lib/python3.6/site-packages/pandas/core/groupby.py\u001b[0m in \u001b[0;36m__init__\u001b[0;34m(self, obj, keys, axis, level, grouper, exclusions, selection, as_index, sort, group_keys, squeeze, **kwargs)\u001b[0m\n\u001b[1;32m    514\u001b[0m                                                     \u001b[0mlevel\u001b[0m\u001b[0;34m=\u001b[0m\u001b[0mlevel\u001b[0m\u001b[0;34m,\u001b[0m\u001b[0;34m\u001b[0m\u001b[0m\n\u001b[1;32m    515\u001b[0m                                                     \u001b[0msort\u001b[0m\u001b[0;34m=\u001b[0m\u001b[0msort\u001b[0m\u001b[0;34m,\u001b[0m\u001b[0;34m\u001b[0m\u001b[0m\n\u001b[0;32m--> 516\u001b[0;31m                                                     mutated=self.mutated)\n\u001b[0m\u001b[1;32m    517\u001b[0m \u001b[0;34m\u001b[0m\u001b[0m\n\u001b[1;32m    518\u001b[0m         \u001b[0mself\u001b[0m\u001b[0;34m.\u001b[0m\u001b[0mobj\u001b[0m \u001b[0;34m=\u001b[0m \u001b[0mobj\u001b[0m\u001b[0;34m\u001b[0m\u001b[0m\n",
      "\u001b[0;32m~/.local/bin/anaconda3/lib/python3.6/site-packages/pandas/core/groupby.py\u001b[0m in \u001b[0;36m_get_grouper\u001b[0;34m(obj, key, axis, level, sort, mutated, validate)\u001b[0m\n\u001b[1;32m   2932\u001b[0m                 \u001b[0min_axis\u001b[0m\u001b[0;34m,\u001b[0m \u001b[0mname\u001b[0m\u001b[0;34m,\u001b[0m \u001b[0mlevel\u001b[0m\u001b[0;34m,\u001b[0m \u001b[0mgpr\u001b[0m \u001b[0;34m=\u001b[0m \u001b[0;32mFalse\u001b[0m\u001b[0;34m,\u001b[0m \u001b[0;32mNone\u001b[0m\u001b[0;34m,\u001b[0m \u001b[0mgpr\u001b[0m\u001b[0;34m,\u001b[0m \u001b[0;32mNone\u001b[0m\u001b[0;34m\u001b[0m\u001b[0m\n\u001b[1;32m   2933\u001b[0m             \u001b[0;32melse\u001b[0m\u001b[0;34m:\u001b[0m\u001b[0;34m\u001b[0m\u001b[0m\n\u001b[0;32m-> 2934\u001b[0;31m                 \u001b[0;32mraise\u001b[0m \u001b[0mKeyError\u001b[0m\u001b[0;34m(\u001b[0m\u001b[0mgpr\u001b[0m\u001b[0;34m)\u001b[0m\u001b[0;34m\u001b[0m\u001b[0m\n\u001b[0m\u001b[1;32m   2935\u001b[0m         \u001b[0;32melif\u001b[0m \u001b[0misinstance\u001b[0m\u001b[0;34m(\u001b[0m\u001b[0mgpr\u001b[0m\u001b[0;34m,\u001b[0m \u001b[0mGrouper\u001b[0m\u001b[0;34m)\u001b[0m \u001b[0;32mand\u001b[0m \u001b[0mgpr\u001b[0m\u001b[0;34m.\u001b[0m\u001b[0mkey\u001b[0m \u001b[0;32mis\u001b[0m \u001b[0;32mnot\u001b[0m \u001b[0;32mNone\u001b[0m\u001b[0;34m:\u001b[0m\u001b[0;34m\u001b[0m\u001b[0m\n\u001b[1;32m   2936\u001b[0m             \u001b[0;31m# Add key to exclusions\u001b[0m\u001b[0;34m\u001b[0m\u001b[0;34m\u001b[0m\u001b[0m\n",
      "\u001b[0;31mKeyError\u001b[0m: 'Item No_'"
     ],
     "output_type": "error"
    }
   ],
   "source": [
    "def load_sales(nrows=None, **csv_params):\n",
    "    \n",
    "    filename = join_path(\"ExportSalesData_3_0_stripped.csv\")\n",
    "    exclude = ['Kosten verzending', 'AFTERPAY (WEB) Nerderland']\n",
    "    \n",
    "    def load_column_selection():\n",
    "        with open(join_path(\"sales_columns_selection.txt\")) as f:\n",
    "            return list(map(lambda t: t[1], [tuple(col.strip().split(', ')) for col in f.readlines()]))\n",
    "        \n",
    "    usecols = load_column_selection()\n",
    "    \n",
    "    csv_params['sep'] = \",\"\n",
    "    csv_params['encoding'] = \"ISO-8859-1\"\n",
    "#     csv_params['usecols'] = usecols\n",
    "    \n",
    "    sales = read_csv(filename, nrows, **csv_params)\n",
    "    \n",
    "    concat_date = lambda row: dt.datetime.combine(row['order_date'], row['order_time'])\n",
    "    \n",
    "    return (\n",
    "        \n",
    "        sales\n",
    "        .dropna(how='all', axis=1)\n",
    "        .loc[:, usecols]\n",
    "        .assign(\n",
    "            order_date=pd.to_datetime(sales['Order Date']).dt.date, \n",
    "            order_time=pd.to_datetime(sales['Order Time']).dt.time)\n",
    "        .pipe(lambda df: df.assign(order_date=df.apply(concat_date, axis=1)))\n",
    "        .drop([\"Order Date\", \"Order Time\", \"order_time\"], axis=1)\n",
    "        .dropna(how='all', axis=1)\n",
    "        .pipe(lambda df: df.where(~df.Description.isin(exclude)).dropna())\n",
    "        .set_index(\"order_date\")\n",
    "        .groupby([pd.Grouper(freq=SAMPLING), SIZE_COLUMN] + list(map(lambda x: x[0], FILTERS)))\n",
    "        .aggregate({\"Quantity\": 'sum', \"Quantity Returned\": 'sum'})\n",
    "        .reset_index()\n",
    "        .set_index(\"order_date\")\n",
    "        .rename(columns={SIZE_COLUMN: \"Size\"})\n",
    "        .pipe(filter_sizes)\n",
    "        \n",
    "    )\n",
    "\n",
    "def load_inventory(nrows=None):\n",
    "    final_columns = []\n",
    "    inventory = read_csv(join_path(\"merged_stocks.csv\"), nrows, sep=\",\", encoding=\"latin-1\")\n",
    "    items = load_items()\n",
    "    \n",
    "    inventory = (\n",
    "        inventory\n",
    "        .where(~inventory[\"Size\"].isin(('1', '1MT')))\n",
    "        .dropna()\n",
    "        .join(items, on=\"Item No_\")\n",
    "    )\n",
    "    \n",
    "    def convert_collection(s):\n",
    "        try:\n",
    "            return s.split(\"-\")[0]\n",
    "        except:\n",
    "            return s\n",
    "    \n",
    "    return (\n",
    "    \n",
    "        inventory\n",
    "        .assign(\n",
    "            posting_date=pd.to_datetime(inventory[\"Posting Date\"]), \n",
    "            Season=inventory[\"ACACollection\"].map(convert_collection), \n",
    "            product_code=inventory[\"Merchandise Code\"].combine_first(inventory[\"Product Group Code\"]), \n",
    "            Size=inventory[\"Size\"].str.replace(\"3XL\", \"XXXL\"), \n",
    "            NetQuantity=inventory[\"Quantity\"] + inventory[\"Sales\"]\n",
    "        )\n",
    "# #         .where(inventory[\"Sales\"] == 0)\n",
    "# #         .dropna()\n",
    "# #         .pipe(lambda df: df.where(df[\"Quantity\"] != 0).dropna())\n",
    "#         .drop([\"Posting Date\", \"ACACollection\", \"Merchandise Code\", \"Product Group Code\"], axis=1)\n",
    "#         .rename(columns={\"product_code\": \"Merchandise Code\", \"ACABrand\": \"Brand\"})\n",
    "#         .set_index(\"posting_date\")\n",
    "#         .pipe(filter_sizes)\n",
    "    \n",
    "    )\n",
    "\n",
    "def load_items():\n",
    "    selection = ['Item No_', 'Product Group Code', 'ACACollection', 'ACABrand']\n",
    "    items = read_csv(join_path(\"ExportItemData_2_0_stripped.csv\"), sep=\",\", encoding=\"latin-1\")\n",
    "    return (\n",
    "\n",
    "        items[selection]\n",
    "        .drop_duplicates(subset=selection[:2])\n",
    "        .loc[~(items[\"ACACollection\"].str.endswith('M', na=False))]\n",
    "        .set_index('Item No_')\n",
    "        \n",
    "    )\n",
    "\n",
    "join_path = lambda filename: os.path.join(DATA_DIR, filename)\n",
    "\n",
    "def timeit(func, *args, **kwargs):\n",
    "    t0 = time()\n",
    "    out = func(*args, **kwargs)\n",
    "    t1 = time()\n",
    "    print(f\"{func.__name__} took {t1 - t0: .2f} s.\")\n",
    "    return out\n",
    "\n",
    "def read_csv(filename, nrows=None, **csv_params):\n",
    "    if nrows is not None:\n",
    "        csv_params[\"nrows\"] = nrows\n",
    "    with warnings.catch_warnings():\n",
    "        warnings.simplefilter('ignore')\n",
    "        return pd.read_csv(filename, **csv_params)\n",
    "\n",
    "def filter_sizes(data):\n",
    "    # Select relevant sizes\n",
    "    sizes = ['XXS', 'XS', 'S', 'M', 'L', 'XL', 'XXL', 'XXXL']\n",
    "    column_name = \"Size\"\n",
    "    categorical_size_type = CategoricalDtype(categories=sizes, ordered=True)\n",
    "    data = data[data[column_name].isin(sizes)].copy()\n",
    "    data[column_name] = data[column_name].astype(categorical_size_type)\n",
    "    return data\n",
    "\n",
    "sales = timeit(load_sales)\n",
    "inventory = timeit(load_inventory)"
   ]
  },
  {
   "cell_type": "code",
   "execution_count": null,
   "metadata": {
    "code_folding": [],
    "extensions": {
     "jupyter_dashboards": {
      "version": 1.0,
      "views": {
       "grid_default": {
        "hidden": true
       },
       "report_default": {}
      }
     }
    }
   },
   "outputs": [],
   "source": [
    "def build_widgets():\n",
    "    \n",
    "    global sales  # Just to make sure from the start that sales is defined...\n",
    "    \n",
    "    date_defaults = [(\"start_date\", START_DATE), (\"end_date\", END_DATE)]\n",
    "    \n",
    "    dropdown_names = FILTERS\n",
    "    \n",
    "    align_kw = dict(_css = (('.widget-label', 'min-width', '20ex'),), margin = '0px 0px 5px 12px')\n",
    "    layout_kw = dict(width='50%',display='inline-flex',flex_flow='row wrap')\n",
    "    \n",
    "    # Extract unique values for dropdowns\n",
    "    get_values = lambda data, column: [None] + sorted(data[column].unique())\n",
    "    \n",
    "    def build_dropdown(values, display_name):\n",
    "        # Build a dropdown widget for interactivity\n",
    "        return widgets.Dropdown(options=values, value=values[0], description=display_name, **align_kw)\n",
    "\n",
    "    def build_date_picker(date_type, display_name, default):\n",
    "        # Build a date picker widget for interactivity\n",
    "        return widgets.DatePicker(description=display_name, value=default, **align_kw)\n",
    "    \n",
    "    widget_names = [[], [], []]\n",
    "    \n",
    "    date_picker = []\n",
    "    clean = lambda s: s.replace(\"_\", \" \").title()\n",
    "    for date_type, value in date_defaults:\n",
    "        widget_names[0].append(date_type)\n",
    "        date_picker.append(build_date_picker(date_type, clean(date_type), value))\n",
    "    \n",
    "    dropdowns = []\n",
    "    for column, display_name in dropdown_names:\n",
    "        widget_names[1].append(column)\n",
    "        dropdowns.append(build_dropdown(get_values(sales, column), display_name))\n",
    "\n",
    "    options = []\n",
    "    \n",
    "    widget_names[2].append(\"Shape\")\n",
    "    options.append(build_dropdown([\"histogram\", \"kde\"], \"Plot\"))\n",
    "    \n",
    "    widget_names[2].append(\"Relative\")\n",
    "    options.append(widgets.Checkbox(value=False, description=\"Relative\", disabled=False))\n",
    "    \n",
    "    widget_names[2].append(\"Frequency\")\n",
    "    options.append(build_dropdown(['D', 'W', 'M', 'Q', 'Y'], \"Frequency\"))\n",
    "    \n",
    "    widget_names[2].append(\"y_data\")\n",
    "    options.append(build_dropdown([None] + list(map(lambda t: t[1], dropdown_names)), \"Y-data\"))\n",
    "    \n",
    "#     hboxes = [\n",
    "#         HBox(layout=Layout(**layout_kw)),\n",
    "#         HBox(layout=Layout(**layout_kw)),\n",
    "#         HBox(layout=Layout(**layout_kw)),\n",
    "#     ]\n",
    "    \n",
    "#     for i, array in enumerate([date_pickers, dropdowns]):     \n",
    "#         hboxes[i].children = array\n",
    "\n",
    "#     master_box = HBox(**layout_kw)\n",
    "#     master_box.children = hboxes\n",
    "\n",
    "    return list(zip(\n",
    "        [name for l in widget_names for name in l], \n",
    "        [widget for l in [date_picker, dropdowns, options] for widget in l]  # master_box\n",
    "    ))"
   ]
  },
  {
   "cell_type": "code",
   "execution_count": null,
   "metadata": {
    "code_folding": [],
    "extensions": {
     "jupyter_dashboards": {
      "version": 1.0,
      "views": {
       "grid_default": {
        "hidden": true
       },
       "report_default": {}
      }
     }
    }
   },
   "outputs": [],
   "source": [
    "def prepare_data(data, **kwargs):\n",
    "    assert isinstance(data, pd.DataFrame)\n",
    "    data = data.copy()\n",
    "    \n",
    "    start_date = kwargs.get(\"start_date\", START_DATE)\n",
    "    end_date = kwargs.get(\"end_date\", END_DATE)\n",
    "    \n",
    "    filters = [\n",
    "    \n",
    "        (\"Web Shop Code\", kwargs.get(\"retailer\")),\n",
    "        (\"Brand\", kwargs.get(\"brand\")), \n",
    "        (\"Season\", kwargs.get(\"season\")), \n",
    "        (\"Merchandise Code\", kwargs.get(\"product_code\"))\n",
    "    \n",
    "    ]\n",
    "\n",
    "    simple_filter = lambda data, column, value: data[data[column] == value].copy()\n",
    "\n",
    "    def filter_date(data, start_date=None, end_date=None):\n",
    "        # Filter start date and end date\n",
    "        data = data.copy()\n",
    "        convert_date = lambda date: dt.datetime(date.year, date.month, date.day)\n",
    "        if start_date:\n",
    "            data = data[data.index >= convert_date(start_date)]\n",
    "        if end_date:\n",
    "            data = data[data.index <= convert_date(end_date)]\n",
    "        return data\n",
    "    \n",
    "    # Filter out unwanted values\n",
    "    data = filter_date(data, start_date, end_date)\n",
    "#     data = filter_sizes(data)\n",
    "    \n",
    "    for name, value in filters:\n",
    "        if value is not None:\n",
    "            data = simple_filter(data, name, value)\n",
    "    \n",
    "    return data\n",
    "\n",
    "def prepare_size_data(data, **kwargs):\n",
    "    \n",
    "    data = prepare_data(data, **kwargs)\n",
    "    relative = kwargs.get(\"relative\", False)\n",
    "\n",
    "    # Filter out unnecessary columns    \n",
    "    data = data[[\"Quantity\", \"Size\"]]\n",
    "    \n",
    "    # Group the data by sizes\n",
    "    data = data.groupby(\"Size\").sum()\n",
    "    \n",
    "    \n",
    "    # Returns true quantities or proportions depending\n",
    "    if not relative:\n",
    "        return data\n",
    "    \n",
    "    proportion = lambda data: data / data.sum()\n",
    "    return proportion(data)"
   ]
  },
  {
   "cell_type": "code",
   "execution_count": null,
   "metadata": {
    "code_folding": [],
    "extensions": {
     "jupyter_dashboards": {
      "version": 1.0,
      "views": {
       "grid_default": {
        "hidden": true
       },
       "report_default": {}
      }
     }
    }
   },
   "outputs": [],
   "source": [
    "def plot_size_distribution(**kwargs):\n",
    "    assert all([df_name in globals() for df_name in (\"sales\", \"inventory\")])\n",
    "    assert \"shape\" in kwargs\n",
    "    shape = kwargs[\"shape\"]\n",
    "    del kwargs[\"shape\"]\n",
    "\n",
    "    global sales\n",
    "    global inventory\n",
    "        \n",
    "    sales_data = prepare_size_data(sales, **kwargs).rename(columns={\"Quantity\": \"Out\"})\n",
    "    inventory_data = prepare_size_data(inventory, **kwargs).rename(columns={\"Quantity\": \"In\"})\n",
    "    \n",
    "    # Close the previous figure\n",
    "    plt.close()\n",
    "    \n",
    "    fig = plt.figure(figsize=(8,4))\n",
    "    ax = fig.add_subplot(111)\n",
    "    \n",
    "    data = pd.concat([inventory_data, sales_data], join='outer', axis=1).fillna(0)\n",
    "#     display(data)\n",
    "#     input()\n",
    "        \n",
    "    if shape != \"histogram\":\n",
    "        data.plot.kde(ax=ax)\n",
    "    if shape != \"kde\":\n",
    "        data.plot.bar(ax=ax)\n",
    "    \n",
    "    format_chart(ax, kwargs)\n",
    "      \n",
    "def format_chart(ax, kwargs):\n",
    "    \n",
    "    kwargs = kwargs.copy()\n",
    "    \n",
    "    if \"relative\" in kwargs:\n",
    "        del kwargs[\"relative\"]\n",
    "    \n",
    "    def func_format(x, _):\n",
    "        if x > 1: return f\"{x:,.0f}\"\n",
    "        elif 0 < x < 1: return f\"{x:.0%}\"\n",
    "        else: return \"\"\n",
    "    \n",
    "    format_key = lambda key: (\n",
    "    \n",
    "        (key.replace(\"_\", \" \").title() + \"=\")\n",
    "        .replace(\"Start Date=\", \"From \")\n",
    "        .replace(\"End Date=\", \"to \")    \n",
    "    )\n",
    "        \n",
    "    def format_val(value):\n",
    "        if isinstance(value, dt.date): return f\"{value:%d-%m-%Y}\"\n",
    "        if isinstance(value, float): return f\"{value:.0f}\"\n",
    "        return str(value)\n",
    "\n",
    "        \n",
    "    ax.set_xlabel(\"\")\n",
    "    [tl.set_rotation(0) for tl in ax.get_xticklabels()]\n",
    "    \n",
    "    ax.yaxis.set_major_formatter(FuncFormatter(func_format))\n",
    "    \n",
    "    cut_lines = lambda l: \" \".join(l[:len(l) // 2] + [\"\\n\"] + l[len(l)//2:])    \n",
    "    title = \" \".join([format_key(k) + format_val(v) for k, v in kwargs.items() if v])\n",
    "    title = title if len(title) < 50 else cut_lines(title.split(\" \"))\n",
    "    ax.set_title(title)\n",
    "    plt.tight_layout()"
   ]
  },
  {
   "cell_type": "markdown",
   "metadata": {
    "extensions": {
     "jupyter_dashboards": {
      "version": 1.0,
      "views": {
       "grid_default": {
        "col": 0.0,
        "height": 4.0,
        "hidden": false,
        "row": 0.0,
        "width": 4.0
       },
       "report_default": {}
      }
     }
    }
   },
   "source": [
    "## Shoeby sales: Sizes distribution"
   ]
  },
  {
   "cell_type": "code",
   "execution_count": null,
   "metadata": {
    "code_folding": [],
    "extensions": {
     "jupyter_dashboards": {
      "version": 1.0,
      "views": {
       "grid_default": {
        "col": 0.0,
        "height": 24.0,
        "hidden": false,
        "row": 8.0,
        "width": 9.0
       },
       "report_default": {}
      }
     }
    },
    "hide_input": false,
    "scrolled": false
   },
   "outputs": [],
   "source": [
    "ipywidgets = {k: v for k, v in build_widgets()}\n",
    "\n",
    "size_dist_options = dict(\n",
    "    \n",
    "    shape=ipywidgets[\"Shape\"],\n",
    "    relative=ipywidgets[\"Relative\"],\n",
    "    start_date=ipywidgets[\"start_date\"], \n",
    "    end_date=ipywidgets[\"end_date\"],\n",
    "    product_code=ipywidgets[\"Merchandise Code\"],\n",
    "    brand=ipywidgets[\"Brand\"], \n",
    "    season=ipywidgets[\"Season\"],\n",
    ")\n",
    "\n",
    "interactive(plot_size_distribution, **size_dist_options)"
   ]
  },
  {
   "cell_type": "code",
   "execution_count": null,
   "metadata": {
    "extensions": {
     "jupyter_dashboards": {
      "version": 1.0,
      "views": {
       "grid_default": {
        "hidden": true
       },
       "report_default": {}
      }
     }
    }
   },
   "outputs": [],
   "source": [
    "def prepare_time_data(data, **kwargs):\n",
    "    data = prepare_data(data, **kwargs)\n",
    "    frequency = kwargs.get(\"frequency\", SAMPLING)\n",
    "    y_data = kwargs.get(\"y_data\")\n",
    "    if y_data:\n",
    "        columns = FILTERS[list(map(lambda x: x[1], FILTERS)).index(y_data)][0]\n",
    "        data = data.reset_index().pivot_table(index=\"order_date\", columns=columns, values=\"Quantity\", aggfunc=\"sum\")\n",
    "    else:\n",
    "        data = data[\"Quantity\"]\n",
    "    return data.resample(frequency).sum()"
   ]
  },
  {
   "cell_type": "code",
   "execution_count": null,
   "metadata": {
    "extensions": {
     "jupyter_dashboards": {
      "version": 1.0,
      "views": {
       "grid_default": {
        "hidden": true
       },
       "report_default": {}
      }
     }
    }
   },
   "outputs": [],
   "source": [
    "def plot_sales_history(**kwargs):\n",
    "#     assert all([df_name in globals() for df_name in (\"sales\", \"inventory\")])\n",
    "    global sales\n",
    "    \n",
    "    sales_data = prepare_time_data(sales, **kwargs)\n",
    "    \n",
    "#     pprint(sales_data)\n",
    "\n",
    "    # Close the previous figure\n",
    "    plt.close()\n",
    "    \n",
    "    fig = plt.figure(figsize=(8,4))\n",
    "    ax = fig.add_subplot(111)\n",
    "    \n",
    "    sales_data.plot(ax=ax)\n",
    "    format_chart(ax, kwargs)"
   ]
  },
  {
   "cell_type": "code",
   "execution_count": null,
   "metadata": {
    "extensions": {
     "jupyter_dashboards": {
      "version": 1.0,
      "views": {
       "grid_default": {
        "col": 0.0,
        "height": 26.0,
        "hidden": false,
        "row": 32.0,
        "width": 9.0
       },
       "report_default": {}
      }
     }
    },
    "hide_input": false,
    "scrolled": false
   },
   "outputs": [],
   "source": [
    "ipywidgets = {k: v for k, v in build_widgets()}\n",
    "\n",
    "sales_history_options = dict(\n",
    "    \n",
    "    frequency=ipywidgets[\"Frequency\"],\n",
    "    y_data=ipywidgets[\"y_data\"],\n",
    "    start_date=ipywidgets[\"start_date\"], \n",
    "    end_date=ipywidgets[\"end_date\"],\n",
    "    retailer=ipywidgets[\"Web Shop Code\"],\n",
    "    product_code=ipywidgets[\"Merchandise Code\"],\n",
    "    brand=ipywidgets[\"Brand\"], \n",
    "    season=ipywidgets[\"Season\"],\n",
    "    \n",
    ")\n",
    "\n",
    "interactive(plot_sales_history, **sales_history_options)"
   ]
  },
  {
   "cell_type": "code",
   "execution_count": null,
   "metadata": {},
   "outputs": [],
   "source": [
    "def prepare_inventory_data():\n",
    "    return (\n",
    "        inventory\n",
    "        .loc[inventory[\"NetQuantity\"] == 0]\n",
    "        .groupby([\"posting_date\", \"Item No_\", \"Size\", \"Color\"])\n",
    "        .agg({'Opening Inventory': 'max'})\n",
    "        .reset_index()\n",
    "        .set_index(\"posting_date\")\n",
    "    )\n",
    "\n",
    "def plot_inventory(**kwargs):\n",
    "    global opening_inventory\n",
    "    data = opening_inventory.copy().rename(columns={\"Item No_\": \"item_no\"})\n",
    "    for key, value in kwargs.items():\n",
    "        if key in data.columns and value:\n",
    "            print(key, value, end=\" \")\n",
    "            data = data.where(data[key] == value).dropna()\n",
    "            print(data.shape)\n",
    "#     if \"sampling\" in kwargs:\n",
    "#         data = data.resample(kwargs[\"sampling\"]).agg(lambda df: df.iloc[-1][\"Opening Inventory\"])\n",
    "    fig = plt.figure(figsize=(10,5))\n",
    "    ax = fig.add_subplot(111)\n",
    "    sns.barplot(x=\"posting_date\", y=\"Opening Inventory\", hue=\"Size\", data=data.reset_index().head(50), ax=ax)\n",
    "    format_chart(ax)\n",
    "    \n",
    "def build_dropdown(values, display_name):\n",
    "    # Build a dropdown widget for interactivity\n",
    "    return widgets.Dropdown(options=values, value=values[0], description=display_name)\n",
    "\n",
    "opening_inventory = prepare_inventory_data()\n",
    "no_dd = build_dropdown(opening_inventory[\"Item No_\"].unique(), \"Item Number\")\n",
    "col_dd = build_dropdown([None] + list(opening_inventory[\"Color\"].unique()), \"Color\")\n",
    "dt_dd = build_dropdown([\"D\", \"W\", \"M\", \"Q\"], \"Sampling\")\n",
    "interactive(plot_inventory, sampling=dt_dd, item_no=no_dd, Color=col_dd)"
   ]
  }
 ],
 "metadata": {
  "extensions": {
   "jupyter_dashboards": {
    "activeView": "grid_default",
    "version": 1.0,
    "views": {
     "grid_default": {
      "cellMargin": 10.0,
      "defaultCellHeight": 20.0,
      "maxColumns": 12.0,
      "name": "grid",
      "type": "grid"
     },
     "report_default": {
      "name": "report",
      "type": "report"
     }
    }
   }
  },
  "hide_input": false,
  "kernelspec": {
   "display_name": "Python 3",
   "language": "python",
   "name": "python3"
  },
  "language_info": {
   "codemirror_mode": {
    "name": "ipython",
    "version": 3
   },
   "file_extension": ".py",
   "mimetype": "text/x-python",
   "name": "python",
   "nbconvert_exporter": "python",
   "pygments_lexer": "ipython3",
   "version": "3.6.5"
  }
 },
 "nbformat": 4,
 "nbformat_minor": 2
}
